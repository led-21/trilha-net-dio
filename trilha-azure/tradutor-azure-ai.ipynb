{
 "cells": [
  {
   "cell_type": "code",
   "execution_count": null,
   "metadata": {},
   "outputs": [],
   "source": [
    "# Importando bibliotecas necessárias\n",
    "import os\n",
    "from azure.ai.textanalytics import TextAnalyticsClient\n",
    "from azure.core.credentials import AzureKeyCredential\n",
    "from azure.ai.translation.document import DocumentTranslationClient, DocumentTranslationInput, TranslationTarget"
   ]
  },
  {
   "cell_type": "code",
   "execution_count": null,
   "metadata": {},
   "outputs": [],
   "source": [
    "# Configurando as credenciais do Azure\n",
    "endpoint = \"https://<seu-endpoint>.cognitiveservices.azure.com/\"\n",
    "key = \"<sua-chave>\""
   ]
  },
  {
   "cell_type": "code",
   "execution_count": null,
   "metadata": {},
   "outputs": [],
   "source": [
    "# Função para autenticar o cliente de tradução\n",
    "def authenticate_client():\n",
    "    ta_credential = AzureKeyCredential(key)\n",
    "    text_analytics_client = TextAnalyticsClient(\n",
    "        endpoint=endpoint, credential=ta_credential)\n",
    "    return text_analytics_client\n",
    "\n",
    "# Função para traduzir texto\n",
    "def translate_text(client, documents, target_language):\n",
    "    translation_client = DocumentTranslationClient(endpoint, AzureKeyCredential(key))\n",
    "    translation_inputs = [\n",
    "        DocumentTranslationInput(\n",
    "            source_url=doc,\n",
    "            targets=[\n",
    "                TranslationTarget(\n",
    "                    target_url=target_language\n",
    "                )\n",
    "            ]\n",
    "        )\n",
    "        for doc in documents\n",
    "    ]\n",
    "    poller = translation_client.begin_translation(translation_inputs)\n",
    "    result = poller.result()\n",
    "    return result\n",
    "\n",
    "def translate_documents(documents):\n",
    "    # Autenticando o cliente\n",
    "    client = authenticate_client()\n",
    "\n",
    "    # Idioma alvo para tradução\n",
    "    target_language = \"pt\"\n",
    "\n",
    "    # Traduzindo os documentos\n",
    "    result = translate_text(client, documents, target_language)\n",
    "\n",
    "    # Exibindo os resultados\n",
    "    for document in result:\n",
    "        print(f\"Document ID: {document.id}\")\n",
    "        print(f\"Source Language: {document.source_language}\")\n",
    "        print(f\"Target Language: {document.target_language}\")\n",
    "        print(f\"Translation: {document.translations[0].text}\")"
   ]
  },
  {
   "cell_type": "code",
   "execution_count": null,
   "metadata": {},
   "outputs": [],
   "source": [
    "# Lista de URLs dos documentos a serem traduzidos\n",
    "documents = [\"<url-do-documento-1>\", \"<url-do-documento-2>\"]\n",
    "\n",
    "# Traduzindo os documentos\n",
    "translate_documents(documents)"
   ]
  }
 ],
 "metadata": {
  "kernelspec": {
   "display_name": "Python 3",
   "language": "python",
   "name": "python3"
  },
  "language_info": {
   "codemirror_mode": {
    "name": "ipython",
    "version": 3
   },
   "file_extension": ".py",
   "mimetype": "text/x-python",
   "name": "python",
   "nbconvert_exporter": "python",
   "pygments_lexer": "ipython3",
   "version": "3.11.9"
  }
 },
 "nbformat": 4,
 "nbformat_minor": 2
}
